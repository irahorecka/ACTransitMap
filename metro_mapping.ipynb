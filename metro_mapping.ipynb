{
 "cells": [
  {
   "cell_type": "code",
   "execution_count": 1,
   "metadata": {},
   "outputs": [],
   "source": [
    "import datetime\n",
    "import math\n",
    "import os\n",
    "import time\n",
    "import pandas as pd\n",
    "from actransit import ACTransit\n",
    "BASE_DIR = os.path.abspath('')\n"
   ]
  },
  {
   "cell_type": "code",
   "execution_count": 2,
   "metadata": {},
   "outputs": [],
   "source": [
    "\"\"\"\n",
    "A function to convert standard latitude\n",
    "and longitude coordinates to a mercator\n",
    "coordinate system\n",
    "\"\"\"\n",
    "def mercator(lat, lon):\n",
    "    r_major = 6378137.000\n",
    "    merc_lon = r_major * math.radians(lon)\n",
    "    try:\n",
    "        scale = merc_lon/lon\n",
    "    except ZeroDivisionError:\n",
    "        return None\n",
    "    merc_lat = 180.0/math.pi * math.log(math.tan(math.pi/4.0 + lat * (math.pi/180.0)/2.0)) * scale\n",
    "\n",
    "    return (merc_lon, merc_lat)\n"
   ]
  },
  {
   "cell_type": "code",
   "execution_count": 3,
   "metadata": {},
   "outputs": [],
   "source": [
    "map_dimension = {\n",
    "    'berkeley_oakland': {\n",
    "        'lat_range': (-13618281.04, -13600024.64),\n",
    "        'lon_range': (4543915.73, 4565210.03)\n",
    "    },\n",
    "    'east_bay': {\n",
    "        'lat_range': (-13629401.86, -13565426.54),\n",
    "        'lon_range': (4500405.56, 4580273.45)\n",
    "    }\n",
    "}\n"
   ]
  },
  {
   "cell_type": "code",
   "execution_count": 4,
   "metadata": {},
   "outputs": [
    {
     "name": "stderr",
     "output_type": "stream",
     "text": [
      "BokehDeprecationWarning: CARTODBPOSITRON was deprecated in Bokeh 1.1.0 and will be removed, use get_provider(Vendors.CARTODBPOSITRON) instead.\n"
     ]
    }
   ],
   "source": [
    "from bokeh.plotting import figure, show, output_notebook\n",
    "from bokeh.models.annotations import Title\n",
    "from bokeh.tile_providers import CARTODBPOSITRON\n",
    "from bokeh.io import export_png\n",
    "\n",
    "\"\"\"\n",
    "A function to plot mercator coordinates over\n",
    "SF East Bay map. Alter point alpha and color\n",
    "to your desire.\n",
    "\"\"\"\n",
    "def plot_bokeh(x_list, y_list, count):\n",
    "    # Set map boundaries (mercator) and axis type\n",
    "    fig_map = map_dimension['berkeley_oakland']\n",
    "    p = figure(x_range=fig_map['lat_range'],\n",
    "               y_range=fig_map['lon_range'],\n",
    "               x_axis_type=\"mercator\", y_axis_type=\"mercator\")\n",
    "    \n",
    "    # Tile Source for CartoDB Tile Service\n",
    "    p.add_tile(CARTODBPOSITRON)\n",
    "    # Set styling for Metro bus coordinate\n",
    "    p.circle(x=y_list,\n",
    "             y=x_list,\n",
    "             color='blue',\n",
    "             fill_alpha=0.1)\n",
    "    \n",
    "    # Set chart title - date + time\n",
    "    title = Title()\n",
    "    title.text = f\"AC Transit Buses - {datetime.datetime.now().strftime('%m/%d/%Y  %H:%M')}\"\n",
    "    p.title = title\n",
    "    \n",
    "    # For displaying map in notebook - comment out to avoid cluttering\n",
    "    # output_notebook()\n",
    "    # show(p)\n",
    "    \n",
    "    # Export as .png\n",
    "    export_png(p, filename=\"plot{}.png\".format(count))\n",
    "    "
   ]
  },
  {
   "cell_type": "code",
   "execution_count": 5,
   "metadata": {},
   "outputs": [],
   "source": [
    "\"\"\"\n",
    "Find lat and lon of every bus.\n",
    "Pass in an instance of ACTransit.\n",
    "\"\"\"\n",
    "def find_geotag(all_buses):\n",
    "    lat_list = []\n",
    "    lon_list = []\n",
    "    # Gather lat, lon of every bus and convert\n",
    "    # to mercator coord\n",
    "    for bus in all_buses['entity']:\n",
    "        vehicle_position = bus['vehicle']['position']\n",
    "        lat = vehicle_position['latitude']\n",
    "        lon = vehicle_position['longitude']\n",
    "        tot_list = mercator(lat, lon)\n",
    "        if not tot_list:\n",
    "            continue\n",
    "        lat_list.append(tot_list[1])\n",
    "        lon_list.append(tot_list[0])\n",
    "        \n",
    "    return lat_list, lon_list\n",
    "\n",
    "\n",
    "def time_sleep(t0, t1, seconds=10):\n",
    "    # Induce 10 second wait time\n",
    "    time_difference = seconds - (t1 - t0)\n",
    "    if time_difference <= 0:\n",
    "        time.sleep(0)\n",
    "    else:\n",
    "        time.sleep(time_difference)\n"
   ]
  },
  {
   "cell_type": "code",
   "execution_count": 6,
   "metadata": {},
   "outputs": [],
   "source": [
    "# Make client instance\n",
    "client = ACTransit()\n",
    "\n",
    "\"\"\"\n",
    "Continually export bus coordinate images\n",
    "every 5 seconds to ./map_figs\n",
    "\"\"\"\n",
    "def main():\n",
    "    os.chdir(\"{}/map_figs\".format(BASE_DIR))\n",
    "    img_count = 0\n",
    "    try:\n",
    "        while True:\n",
    "            t0 = time.time()\n",
    "\n",
    "            # Fetch all AC Transit bus information\n",
    "            try:\n",
    "                all_bus = client.gtfsrt.vehicles()\n",
    "            except TypeError:\n",
    "                continue\n",
    "            \n",
    "            lat, lon = find_geotag(all_bus)\n",
    "            plot_bokeh(lat, lon, img_count)\n",
    "            \n",
    "            img_count += 1\n",
    "            t1 = time.time()\n",
    "            time_sleep(t0, t1, seconds=5)\n",
    "    \n",
    "    # Handle abort or connection error\n",
    "    except KeyboardInterrupt:\n",
    "        print(\"Exiting protocol...\")\n",
    "    except Exception as error:\n",
    "        print(\"{e}.\\n\\nPlease restart kernel.\".format(e=error))\n",
    "    finally:\n",
    "        os.chdir(BASE_DIR)\n"
   ]
  },
  {
   "cell_type": "code",
   "execution_count": 7,
   "metadata": {},
   "outputs": [
    {
     "name": "stdout",
     "output_type": "stream",
     "text": [
      "Exiting protocol...\n"
     ]
    }
   ],
   "source": [
    "main()"
   ]
  },
  {
   "cell_type": "code",
   "execution_count": null,
   "metadata": {},
   "outputs": [],
   "source": []
  }
 ],
 "metadata": {
  "kernelspec": {
   "display_name": "Python [conda env:anaconda3]",
   "language": "python",
   "name": "conda-env-anaconda3-py"
  },
  "language_info": {
   "codemirror_mode": {
    "name": "ipython",
    "version": 3
   },
   "file_extension": ".py",
   "mimetype": "text/x-python",
   "name": "python",
   "nbconvert_exporter": "python",
   "pygments_lexer": "ipython3",
   "version": "3.7.6"
  }
 },
 "nbformat": 4,
 "nbformat_minor": 4
}
